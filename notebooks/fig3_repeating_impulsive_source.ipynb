{
 "cells": [
  {
   "attachments": {},
   "cell_type": "markdown",
   "metadata": {},
   "source": [
    "# Figure 3 - Correlation wavefield contribution of a repeating impulsive isolated source\n",
    "\n",
    "This notebook reproduces Figure 3 of Schippkus et al. 2023 (\"Repeating direct waves in the coda of ambient seismic noise cross correlations\"). It computes and plots the three factors in the second term of eq. 2 in Schippkus et al. 2023, and its contribution to the correlation wavefield. The three factors are: Auto-correlation of the wavelet, auto-correlation of the excitation pattern, cross-correlation of the Green's functions (isolated source > master station and isolated source > receiver station). The contribution to the correlation wavefield of such a such is the convolution of these three."
   ]
  },
  {
   "cell_type": "code",
   "execution_count": 15,
   "metadata": {},
   "outputs": [],
   "source": [
    "import numpy as np\n",
    "from scipy.signal import ricker, fftconvolve\n",
    "from obspy import read_inventory\n",
    "from obspy.geodetics import gps2dist_azimuth\n",
    "\n",
    "# Define time\n",
    "freq = 10\n",
    "timelen = 1200\n",
    "times = np.arange(0, timelen + 1 / freq, 1 / freq)\n",
    "\n",
    "# Define geometry\n",
    "# for computation of Green's functions and their correlation\n",
    "inv = read_inventory(\"meta/graefenberg.stationxml\")\n",
    "station = np.array([inv[0][0].longitude, inv[0][0].latitude])\n",
    "master_station = np.array([2.26, 48.0258])\n",
    "isolated_source = np.array([-23, 62.5])\n",
    "dist_master = gps2dist_azimuth(*master_station[::-1], *isolated_source[::-1])[0] / 1000\n",
    "dist_station = gps2dist_azimuth(*station[::-1], *isolated_source[::-1])[0] / 1000\n",
    "\n",
    "# Define medium\n",
    "# acoustic, isotropic, homogeneous half-space\n",
    "vel = 3\n",
    "\n",
    "# Define isolated source wavelet & excitation pattern\n",
    "wavelet = ricker(len(times), 2 * freq)\n",
    "\n",
    "n_repeat = 8\n",
    "interval = 30\n",
    "excitation_pattern = np.zeros(len(times))\n",
    "excitation_pattern[\n",
    "    int(interval * freq) : (n_repeat + 1) * int(interval * freq) : int(interval * freq)\n",
    "] = 1\n",
    "\n",
    "# Green's functions = Dirac delta functions\n",
    "gf_master = np.zeros(len(times))\n",
    "gf_master[int(freq * dist_master / vel)] = 1\n",
    "gf_station = np.zeros(len(times))\n",
    "gf_station[int(freq * dist_station / vel)] = 1\n",
    "\n",
    "# Correlations\n",
    "wavelet_autocorr = fftconvolve(wavelet, wavelet[::-1], mode=\"same\")\n",
    "excitation_pattern_autocorr = fftconvolve(\n",
    "    excitation_pattern, excitation_pattern[::-1], mode=\"same\"\n",
    ")\n",
    "gf_corr = fftconvolve(gf_station, gf_master[::-1], mode=\"same\")\n",
    "\n",
    "# Isolated noise source contribution to the correlation wavefield\n",
    "# second term of eq. 2, Schippkus et al. 2023\n",
    "isolated_source_contribution = fftconvolve(\n",
    "    fftconvolve(wavelet_autocorr, excitation_pattern_autocorr, mode=\"same\"),\n",
    "    gf_corr,\n",
    "    mode=\"same\",\n",
    ")"
   ]
  },
  {
   "cell_type": "code",
   "execution_count": 16,
   "metadata": {},
   "outputs": [
    {
     "data": {
      "image/png": "[encoded data removed]",
      "text/plain": [
       "<Figure size 243.78x243.78 with 4 Axes>"
      ]
     },
     "metadata": {
      "needs_background": "light"
     },
     "output_type": "display_data"
    }
   ],
   "source": [
    "import pylab as plt\n",
    "from matplotlib.gridspec import GridSpec\n",
    "\n",
    "lapsetimes = times - times[-1] / 2\n",
    "\n",
    "_cm = 1 / 2.54\n",
    "fig = plt.figure(figsize=(8.6 * _cm, 8.6 * _cm))\n",
    "fig.subplots_adjust(left=0.1, right=0.95, bottom=0.1, top=0.95)\n",
    "\n",
    "plt.rc(\"font\", size=8)\n",
    "plt.rc(\"axes\", titlesize=8)\n",
    "plt.rc(\"axes\", labelsize=8)\n",
    "plt.rc(\"xtick\", labelsize=8)\n",
    "plt.rc(\"ytick\", labelsize=8)\n",
    "plt.rc(\"legend\", fontsize=8)\n",
    "plt.rcParams[\"mathtext.fontset\"] = \"dejavuserif\"\n",
    "\n",
    "\n",
    "gs = GridSpec(4, 1, hspace=0.4, wspace=0, figure=fig)\n",
    "axs = [fig.add_subplot(gs[_, 0]) for _ in range(4)]\n",
    "# make consistent and pretty\n",
    "for ax in axs:\n",
    "    ax.xaxis.set_tick_params(length=2, pad=1)\n",
    "    ax.yaxis.set_tick_params(length=2, pad=1)\n",
    "    ax.set_yticks([0])\n",
    "    ax.set_xlim(-180, 180)\n",
    "    ax.set_xticks(np.arange(-150, 150 + 50, 50))\n",
    "    ax.set_xticklabels([])\n",
    "    ax.set_ylabel(\"Amplitude\", fontsize=6)\n",
    "\n",
    "ax = axs[0]\n",
    "ax.plot(lapsetimes, wavelet_autocorr)\n",
    "ax.set_title(f\"a)\", loc=\"left\", pad=0)\n",
    "ax.set_title(f\"$|W_I|^2$\", loc=\"center\", pad=0)\n",
    "ax.set_ylim(\n",
    "    -1.2 * np.max(np.abs(wavelet_autocorr)), 1.2 * np.max(np.abs(wavelet_autocorr))\n",
    ")\n",
    "\n",
    "ax = axs[1]\n",
    "ax.set_title(f\"b)\", loc=\"left\", pad=0)\n",
    "ax.set_title(f\"$|E_I|^2$\", loc=\"center\", pad=0)\n",
    "ax.plot(lapsetimes, excitation_pattern_autocorr)\n",
    "ax.set_ylim(\n",
    "    -0.2 * np.max(np.abs(excitation_pattern_autocorr)),\n",
    "    1.2 * np.max(np.abs(excitation_pattern_autocorr)),\n",
    ")\n",
    "\n",
    "ax = axs[2]\n",
    "ax.plot(lapsetimes, gf_corr)\n",
    "ax.set_title(f\"c)\", loc=\"left\", pad=0)\n",
    "ax.set_title(\n",
    "    r\"$G(\\mathbf{r}, \\mathbf{r}_N) G^*(\\mathbf{r}_M,\\mathbf{r}_N)$\", loc=\"center\", pad=0\n",
    ")\n",
    "ax.set_ylim(-0.2 * np.max(np.abs(gf_corr)), 1.2 * np.max(np.abs(gf_corr)))\n",
    "\n",
    "ax = axs[3]\n",
    "ax.plot(lapsetimes, isolated_source_contribution)\n",
    "ax.set_title(f\"d)\", loc=\"left\", pad=0)\n",
    "ax.set_title(\n",
    "    r\"$|W_I|^2 |E_I|^2 G(\\mathbf{r}, \\mathbf{r}_N) G^*(\\mathbf{r}_M,\\mathbf{r}_N)$\",\n",
    "    loc=\"center\",\n",
    "    pad=0,\n",
    ")\n",
    "ax.set_ylim(\n",
    "    -1.2 * np.max(np.abs(isolated_source_contribution)),\n",
    "    1.2 * np.max(np.abs(isolated_source_contribution)),\n",
    ")\n",
    "\n",
    "ax.set_xlabel(\"Lapse time [sec.]\", fontsize=8)\n",
    "ax.set_xticklabels(np.arange(-150, 150 + 50, 50))\n",
    "\n",
    "fig.savefig(\"../figures/Fig3_repeating_impulsive_source.pdf\", dpi=300)"
   ]
  }
 ],
 "metadata": {
  "kernelspec": {
   "display_name": "seis310",
   "language": "python",
   "name": "python3"
  },
  "language_info": {
   "codemirror_mode": {
    "name": "ipython",
    "version": 3
   },
   "file_extension": ".py",
   "mimetype": "text/x-python",
   "name": "python",
   "nbconvert_exporter": "python",
   "pygments_lexer": "ipython3",
   "version": "3.10.5"
  },
  "orig_nbformat": 4,
  "vscode": {
   "interpreter": {
    "hash": "e2eee838b4b960447eac0bd640990628fde9042318999ec296d5d9daa5fd532a"
   }
  }
 },
 "nbformat": 4,
 "nbformat_minor": 2
}
