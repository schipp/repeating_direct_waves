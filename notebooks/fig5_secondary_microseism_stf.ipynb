{
 "cells": [
  {
   "attachments": {},
   "cell_type": "markdown",
   "metadata": {},
   "source": [
    "# Figure 5 - Correlation wavefield contribution of an isolated secondary microseism source\n",
    "\n",
    "This notebook reproduces Figure 5 of Schippkus et al. 2023 (\"Repeating direct waves in the coda of ambient seismic noise cross correlations\"). It computes the source time function for the secondary microseism mechanism, following Gualtieri et al. 2020, and its contribution to the correlation wavefield."
   ]
  },
  {
   "cell_type": "code",
   "execution_count": 1,
   "metadata": {},
   "outputs": [],
   "source": [
    "import numpy as np\n",
    "from scipy.signal import fftconvolve\n",
    "from obspy import read_inventory\n",
    "from obspy.geodetics import gps2dist_azimuth\n",
    "\n",
    "# Fixed seed for reproduction of manuscript\n",
    "np.random.seed(42)\n",
    "\n",
    "# Define time\n",
    "freq = 10\n",
    "times = np.arange(0, 900 + 1 / freq, 1 / freq)\n",
    "lapsetimes = times - times[-1] / 2\n",
    "freqs = np.fft.fftfreq(len(times), 1 / freq)\n",
    "\n",
    "# Define geometry\n",
    "# for computation of Green's functions and their correlation\n",
    "inv = read_inventory(\"meta/graefenberg.stationxml\")\n",
    "station = np.array([inv[0][0].longitude, inv[0][0].latitude])\n",
    "master_station = np.array([2.26, 48.0258])\n",
    "isolated_source = np.array([-23, 62.5])\n",
    "dist_master = gps2dist_azimuth(*master_station[::-1], *isolated_source[::-1])[0] / 1000\n",
    "dist_station = gps2dist_azimuth(*station[::-1], *isolated_source[::-1])[0] / 1000\n",
    "\n",
    "# Define medium\n",
    "# acoustic, isotropic, homogeneous half-space\n",
    "vel = 3\n",
    "\n",
    "# Compute secondary microseism source time function\n",
    "# harmonic frequencies excited and their phases\n",
    "freqs_excited = freqs[np.where((freqs > 0.1) & (freqs < 0.4))]\n",
    "phases = np.random.uniform(0, 2 * np.pi, size=freqs_excited.shape)\n",
    "\n",
    "# source time function is sum over harmonics in frequency range\n",
    "# eq. 4 in Schippkus et al. 2023, with A=1\n",
    "stf = P = np.sum(\n",
    "    [\n",
    "        np.cos(2 * np.pi * freqs_excited[i] * times + phases[i])\n",
    "        for i in range(freqs_excited.shape[0])\n",
    "    ],\n",
    "    axis=0,\n",
    ")\n",
    "\n",
    "# Auto-correlation of source time function,\n",
    "stf_acorr = fftconvolve(stf, stf[::-1], mode=\"same\")\n",
    "# normalised for plotting simplicity\n",
    "stf_acorr /= np.max(np.abs(stf_acorr))\n",
    "\n",
    "# Green's functions = Dirac delta functions\n",
    "gf_master = np.zeros(len(times))\n",
    "gf_master[int(freq * dist_master / vel)] = 1\n",
    "gf_station = np.zeros(len(times))\n",
    "gf_station[int(freq * dist_station / vel)] = 1\n",
    "\n",
    "# Correlation\n",
    "gf_corr = fftconvolve(gf_station, gf_master[::-1], mode=\"same\")\n",
    "\n",
    "# Isolated noise source contribution to the correlation wavefield\n",
    "# second term of eq. 2, Schippkus et al. 2023\n",
    "isolated_source_contribution = fftconvolve(stf_acorr, gf_corr, mode=\"same\")\n"
   ]
  },
  {
   "cell_type": "code",
   "execution_count": 2,
   "metadata": {},
   "outputs": [
    {
     "data": {
      "image/png": "[encoded data removed]",
      "text/plain": [
       "<Figure size 243.78x170.079 with 3 Axes>"
      ]
     },
     "metadata": {
      "needs_background": "light"
     },
     "output_type": "display_data"
    }
   ],
   "source": [
    "# Plot results\n",
    "import pylab as plt\n",
    "\n",
    "_cm = 1 / 2.54\n",
    "plt.rc(\"font\", size=8)\n",
    "plt.rc(\"axes\", titlesize=8)\n",
    "plt.rc(\"axes\", labelsize=8)\n",
    "plt.rc(\"xtick\", labelsize=8)\n",
    "plt.rc(\"ytick\", labelsize=8)\n",
    "plt.rc(\"legend\", fontsize=8)\n",
    "plt.rcParams[\"mathtext.fontset\"] = \"dejavuserif\"\n",
    "\n",
    "fig, axs = plt.subplots(3, 1, figsize=(8.6 * _cm, 6 * _cm))\n",
    "fig.subplots_adjust(left=0.1, right=0.95, bottom=0.125, top=0.925, hspace=0.6)\n",
    "\n",
    "for ax in axs:\n",
    "    ax.xaxis.set_tick_params(length=2, pad=1)\n",
    "    ax.yaxis.set_tick_params(length=2, pad=1)\n",
    "\n",
    "# Source time function\n",
    "ax = axs[0]\n",
    "stf /= np.max(np.abs(stf))\n",
    "ax.plot(times, stf)\n",
    "ax.set_xlim(0, 260)\n",
    "ax.set_xticks(np.arange(0, 250 + 50, 50))\n",
    "ax.set_xlabel(\"Time [sec.]\", labelpad=-1)\n",
    "ax.set_ylim(-1.2, 1.2)\n",
    "ax.set_yticks([0])\n",
    "ax.set_ylabel(\"Amplitude\", fontsize=6)\n",
    "ax.set_title(\"a)\", loc=\"left\", pad=0)\n",
    "ax.set_title(r\"$N_I = P(\\theta, \\phi)$\", loc=\"center\", pad=0)\n",
    "\n",
    "# Source time function auto-correlation\n",
    "ax = axs[1]\n",
    "x0, y0, w, h = ax.get_position().bounds\n",
    "ax.set_position([x0, y0 - 0.05, w, h])\n",
    "ax.plot(lapsetimes, stf_acorr)\n",
    "ax.set_xlim(-130, 130)\n",
    "ax.set_xticklabels([])\n",
    "ax.set_ylim(-1.2, 1.2)\n",
    "ax.set_yticks([0])\n",
    "ax.set_ylabel(\"Amplitude\", fontsize=6)\n",
    "ax.set_title(\"b)\", loc=\"left\", pad=0)\n",
    "ax.set_title(r\"$|N_I|^2$\", loc=\"center\", pad=0)\n",
    "\n",
    "# Isolated noise source contribution to the correlation wavefield\n",
    "# second term of eq. 2, Schippkus et al. 2023\n",
    "ax = axs[2]\n",
    "ax.plot(lapsetimes, isolated_source_contribution)\n",
    "ax.set_xlim(-130, 130)\n",
    "ax.set_xticks(np.arange(-100, 100 + 50, 50))\n",
    "ax.set_xlabel(\"Lapse time [sec.]\", labelpad=0.5)\n",
    "ax.set_ylim(-1.2, 1.2)\n",
    "ax.set_yticks([0])\n",
    "ax.set_ylabel(\"Amplitude\", fontsize=6)\n",
    "ax.set_title(\"c)\", loc=\"left\", pad=0)\n",
    "ax.set_title(\n",
    "    r\"$|N_I|^2 G(\\mathbf{r}, \\mathbf{r}_N) G^*(\\mathbf{r}_M,\\mathbf{r}_N)$\",\n",
    "    loc=\"center\",\n",
    "    pad=0,\n",
    ")\n",
    "\n",
    "fig.savefig(\"../figures/Fig5_secondary_microseism_stf.pdf\", dpi=300)"
   ]
  }
 ],
 "metadata": {
  "kernelspec": {
   "display_name": "seis310",
   "language": "python",
   "name": "python3"
  },
  "language_info": {
   "codemirror_mode": {
    "name": "ipython",
    "version": 3
   },
   "file_extension": ".py",
   "mimetype": "text/x-python",
   "name": "python",
   "nbconvert_exporter": "python",
   "pygments_lexer": "ipython3",
   "version": "3.10.5"
  },
  "orig_nbformat": 4,
  "vscode": {
   "interpreter": {
    "hash": "e2eee838b4b960447eac0bd640990628fde9042318999ec296d5d9daa5fd532a"
   }
  }
 },
 "nbformat": 4,
 "nbformat_minor": 2
}
